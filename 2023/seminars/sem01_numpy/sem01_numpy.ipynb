{
  "cells": [
    {
      "cell_type": "markdown",
      "metadata": {
        "id": "flPauhkF1wbI"
      },
      "source": [
        "# Семинар 1: знакомство с NumPy\n"
      ]
    },
    {
      "cell_type": "code",
      "source": [
        "print('hi')"
      ],
      "metadata": {
        "colab": {
          "base_uri": "https://localhost:8080/"
        },
        "id": "1aaWbESC12MF",
        "outputId": "9b8a5872-c1b5-4121-d525-dd06826304f5"
      },
      "execution_count": null,
      "outputs": [
        {
          "output_type": "stream",
          "name": "stdout",
          "text": [
            "hi\n"
          ]
        }
      ]
    },
    {
      "cell_type": "markdown",
      "metadata": {
        "id": "EM3qQX881wbJ"
      },
      "source": [
        "## Немного про Jupyter notebook"
      ]
    },
    {
      "cell_type": "markdown",
      "metadata": {
        "id": "vlQUZ8z-1wbJ"
      },
      "source": [
        "Полная документация: https://devpractice.ru/python-lesson-6-work-in-jupyter-notebook/\n",
        "\n",
        "---\n",
        "В Jupyter Notebook есть два режима работы: режим _команд_ и режим _редактирования_\n",
        "\n",
        "_Командный_ режим нужен для того, чтобы взаимодействовать и управлять ячейками (добавлять, удалять, запускать, копировать, ...)\n",
        "\n",
        "В режиме _редактирования_ вы меняете содержимое ячейки.\n",
        "\n",
        "Ячейки бывают двух основных типов, _код_ и _разметка_\n",
        "\n",
        "### Полезные команды\n",
        "\n",
        "(находясь в командном режиме)\n",
        "\n",
        "- `a` - добавить пустую ячейку сверху\n",
        "\n",
        "- `b` - добавить пустую ячейку снизу\n",
        "- `c` - скопировать текущую ячейку\n",
        "- `v` - вставить скопированную ячейку\n",
        "- `d` - удалить текущую ячейку\n",
        "- `x` - вырезать (удалить и скопировать) текущую ячейку\n",
        "- `m` - изменить тип выбранной ячейки на \"разметка\"\n",
        "- `y` - изменить тип выбранной ячейки на \"код\"\n",
        "- `z` - отменить последнее действие\n",
        "\n",
        "\n",
        "- `Enter` - начать редактировать выбранную ячейку\n",
        "\n",
        "(будучи в режим редактирования ячейки)\n",
        "- `esc` - вернуться в командный режим\n",
        "\n",
        "(будучи в любом режиме)\n",
        "\n",
        "- `Ctrl + Enter` - запустить выбранную ячейку\n",
        "- `Shift + Enter` - запустить выбранную ячейку и выбрать следующую"
      ]
    },
    {
      "cell_type": "code",
      "execution_count": null,
      "metadata": {
        "id": "s8DS6_0I1wbK",
        "outputId": "7f787fc9-9ada-40ff-a8dd-f5aae2a0975a"
      },
      "outputs": [
        {
          "data": {
            "text/plain": [
              "5"
            ]
          },
          "execution_count": 7,
          "metadata": {},
          "output_type": "execute_result"
        }
      ],
      "source": [
        "2 + 2"
      ]
    },
    {
      "cell_type": "markdown",
      "metadata": {
        "id": "f8npeuAa1wbL"
      },
      "source": [
        "## numpy"
      ]
    },
    {
      "cell_type": "markdown",
      "metadata": {
        "id": "jIY-8faX1wbL"
      },
      "source": [
        "- документация: http://www.numpy.org/"
      ]
    },
    {
      "cell_type": "markdown",
      "metadata": {
        "id": "Sd0qajnG1wbL"
      },
      "source": [
        "Библиотека numpy является удобным инструментом для работы с многомерными массивами с возможностью векторизации вычислений. Рассмотрим базовые вещи, которые можно делать с помощью нее."
      ]
    },
    {
      "cell_type": "code",
      "execution_count": 3,
      "metadata": {
        "id": "mZDgbejb1wbL"
      },
      "outputs": [],
      "source": [
        "import numpy as np"
      ]
    },
    {
      "cell_type": "code",
      "execution_count": 15,
      "metadata": {
        "id": "kM6Gn4Tc1wbM"
      },
      "outputs": [],
      "source": [
        "vec = np.array([[1, 2], [3, 4], [5, 6]])"
      ]
    },
    {
      "cell_type": "code",
      "execution_count": 16,
      "metadata": {
        "id": "24_Ow6oI1wbM",
        "outputId": "b3ce0ce1-5f90-4161-e2b6-227f9c6a656e",
        "colab": {
          "base_uri": "https://localhost:8080/"
        }
      },
      "outputs": [
        {
          "output_type": "execute_result",
          "data": {
            "text/plain": [
              "array([[1, 2],\n",
              "       [3, 4],\n",
              "       [5, 6]])"
            ]
          },
          "metadata": {},
          "execution_count": 16
        }
      ],
      "source": [
        "vec"
      ]
    },
    {
      "cell_type": "code",
      "execution_count": 17,
      "metadata": {
        "id": "89TW10n11wbM",
        "outputId": "11d2afd3-010a-4786-edfc-3d784103874c",
        "colab": {
          "base_uri": "https://localhost:8080/"
        }
      },
      "outputs": [
        {
          "output_type": "stream",
          "name": "stdout",
          "text": [
            "[[1 2]\n",
            " [3 4]\n",
            " [5 6]]\n"
          ]
        }
      ],
      "source": [
        "print(vec)"
      ]
    },
    {
      "cell_type": "markdown",
      "metadata": {
        "id": "muDdC2J21wbM"
      },
      "source": [
        "С чем мы работаем?"
      ]
    },
    {
      "cell_type": "code",
      "execution_count": 18,
      "metadata": {
        "id": "YN8dlF1m1wbM",
        "outputId": "87b631a9-1147-4d90-c6e3-2791fa159046",
        "colab": {
          "base_uri": "https://localhost:8080/"
        }
      },
      "outputs": [
        {
          "output_type": "execute_result",
          "data": {
            "text/plain": [
              "dtype('int64')"
            ]
          },
          "metadata": {},
          "execution_count": 18
        }
      ],
      "source": [
        "vec.dtype"
      ]
    },
    {
      "cell_type": "code",
      "execution_count": 19,
      "metadata": {
        "id": "SiXdYwiY1wbM",
        "outputId": "d69f3d2e-5bed-4068-b324-a7f3ce700ed1",
        "colab": {
          "base_uri": "https://localhost:8080/"
        }
      },
      "outputs": [
        {
          "output_type": "execute_result",
          "data": {
            "text/plain": [
              "numpy.ndarray"
            ]
          },
          "metadata": {},
          "execution_count": 19
        }
      ],
      "source": [
        "type(vec)"
      ]
    },
    {
      "cell_type": "markdown",
      "metadata": {
        "id": "Vi83vGW01wbM"
      },
      "source": [
        "Размер массива:"
      ]
    },
    {
      "cell_type": "code",
      "execution_count": 20,
      "metadata": {
        "id": "yTDlUVnC1wbM",
        "outputId": "37447c0f-823a-4c7f-e557-eb640ea3501f",
        "colab": {
          "base_uri": "https://localhost:8080/"
        }
      },
      "outputs": [
        {
          "output_type": "execute_result",
          "data": {
            "text/plain": [
              "(3, 2)"
            ]
          },
          "metadata": {},
          "execution_count": 20
        }
      ],
      "source": [
        "vec.shape"
      ]
    },
    {
      "cell_type": "markdown",
      "metadata": {
        "id": "9UYPWlXn1wbM"
      },
      "source": [
        "Число осей:"
      ]
    },
    {
      "cell_type": "code",
      "execution_count": 21,
      "metadata": {
        "id": "YJrXQfrU1wbM",
        "outputId": "ba9f6fa4-7859-4c18-dce5-c7db84254877",
        "colab": {
          "base_uri": "https://localhost:8080/"
        }
      },
      "outputs": [
        {
          "output_type": "execute_result",
          "data": {
            "text/plain": [
              "2"
            ]
          },
          "metadata": {},
          "execution_count": 21
        }
      ],
      "source": [
        "vec.ndim"
      ]
    },
    {
      "cell_type": "markdown",
      "metadata": {
        "id": "TZaNRnC31wbN"
      },
      "source": [
        "У некоторых функций бывает параметр `axis`, который позволяет применить эту функцию по разным осям - в данном случае, по строкам или столбцам:"
      ]
    },
    {
      "cell_type": "code",
      "execution_count": 22,
      "metadata": {
        "id": "itVTfzb31wbN",
        "outputId": "4c33824b-c5c2-45e4-efce-a41dd9ab46ab",
        "colab": {
          "base_uri": "https://localhost:8080/"
        }
      },
      "outputs": [
        {
          "output_type": "execute_result",
          "data": {
            "text/plain": [
              "np.int64(21)"
            ]
          },
          "metadata": {},
          "execution_count": 22
        }
      ],
      "source": [
        "np.sum(vec)"
      ]
    },
    {
      "cell_type": "code",
      "execution_count": 23,
      "metadata": {
        "colab": {
          "base_uri": "https://localhost:8080/"
        },
        "id": "rqUGQv3H1wbN",
        "outputId": "54da9628-27ac-4e80-ee01-76eff7ade6f7"
      },
      "outputs": [
        {
          "output_type": "execute_result",
          "data": {
            "text/plain": [
              "array([ 9, 12])"
            ]
          },
          "metadata": {},
          "execution_count": 23
        }
      ],
      "source": [
        "np.sum(vec, axis=0)"
      ]
    },
    {
      "cell_type": "code",
      "execution_count": 24,
      "metadata": {
        "id": "ABefQ_Eo1wbN",
        "outputId": "3bd1ff49-78a2-43a0-849b-347810efe092",
        "colab": {
          "base_uri": "https://localhost:8080/"
        }
      },
      "outputs": [
        {
          "output_type": "execute_result",
          "data": {
            "text/plain": [
              "array([ 3,  7, 11])"
            ]
          },
          "metadata": {},
          "execution_count": 24
        }
      ],
      "source": [
        "np.sum(vec, axis=1)"
      ]
    },
    {
      "cell_type": "code",
      "execution_count": 25,
      "metadata": {
        "id": "i2xRlW6d1wbN",
        "outputId": "df700e7e-53ee-4f30-ee1c-6603d9dba023",
        "colab": {
          "base_uri": "https://localhost:8080/"
        }
      },
      "outputs": [
        {
          "output_type": "execute_result",
          "data": {
            "text/plain": [
              "np.int64(21)"
            ]
          },
          "metadata": {},
          "execution_count": 25
        }
      ],
      "source": [
        "vec.sum()"
      ]
    },
    {
      "cell_type": "markdown",
      "metadata": {
        "id": "2s8kXXjS1wbN"
      },
      "source": [
        "Транспонируем массив:"
      ]
    },
    {
      "cell_type": "code",
      "execution_count": 26,
      "metadata": {
        "id": "YwYC8zBT1wbN",
        "outputId": "6ad91023-0097-4168-eeac-597c7646e16b",
        "colab": {
          "base_uri": "https://localhost:8080/"
        }
      },
      "outputs": [
        {
          "output_type": "execute_result",
          "data": {
            "text/plain": [
              "array([[1, 3, 5],\n",
              "       [2, 4, 6]])"
            ]
          },
          "metadata": {},
          "execution_count": 26
        }
      ],
      "source": [
        "vec.T"
      ]
    },
    {
      "cell_type": "code",
      "execution_count": 27,
      "metadata": {
        "id": "ADYEyYSg1wbN",
        "outputId": "4a877d8a-12d7-48e5-af6c-b3af0aa1a553",
        "colab": {
          "base_uri": "https://localhost:8080/"
        }
      },
      "outputs": [
        {
          "output_type": "execute_result",
          "data": {
            "text/plain": [
              "array([[1, 3, 5],\n",
              "       [2, 4, 6]])"
            ]
          },
          "metadata": {},
          "execution_count": 27
        }
      ],
      "source": [
        "vec.transpose()"
      ]
    },
    {
      "cell_type": "markdown",
      "metadata": {
        "id": "LBlJHmPm1wbN"
      },
      "source": [
        "Обратите внимание, что переменная `vec` не поменялась!"
      ]
    },
    {
      "cell_type": "code",
      "execution_count": 28,
      "metadata": {
        "id": "qmdVxVK21wbN",
        "outputId": "7ca2b418-10aa-4609-94c2-cc62f41b686e",
        "colab": {
          "base_uri": "https://localhost:8080/"
        }
      },
      "outputs": [
        {
          "output_type": "execute_result",
          "data": {
            "text/plain": [
              "array([[1, 2],\n",
              "       [3, 4],\n",
              "       [5, 6]])"
            ]
          },
          "metadata": {},
          "execution_count": 28
        }
      ],
      "source": [
        "vec"
      ]
    },
    {
      "cell_type": "markdown",
      "metadata": {
        "id": "vEsLaIB41wbO"
      },
      "source": [
        "Размеры массивов можно менять:"
      ]
    },
    {
      "cell_type": "code",
      "execution_count": 29,
      "metadata": {
        "id": "uuQoMCha1wbO",
        "outputId": "7333f552-5de1-475f-86ec-a523e3ddc33f",
        "colab": {
          "base_uri": "https://localhost:8080/"
        }
      },
      "outputs": [
        {
          "output_type": "execute_result",
          "data": {
            "text/plain": [
              "array([[1, 2, 3],\n",
              "       [4, 5, 6]])"
            ]
          },
          "metadata": {},
          "execution_count": 29
        }
      ],
      "source": [
        "vec.reshape(2, 3)"
      ]
    },
    {
      "cell_type": "code",
      "execution_count": 30,
      "metadata": {
        "id": "EOtKvpcU1wbO",
        "outputId": "93dec778-7b11-459a-ff33-4dd16bab81d2",
        "colab": {
          "base_uri": "https://localhost:8080/"
        }
      },
      "outputs": [
        {
          "output_type": "execute_result",
          "data": {
            "text/plain": [
              "array([[1, 2, 3],\n",
              "       [4, 5, 6]])"
            ]
          },
          "metadata": {},
          "execution_count": 30
        }
      ],
      "source": [
        "vec.reshape(-1, 3)"
      ]
    },
    {
      "cell_type": "code",
      "execution_count": 31,
      "metadata": {
        "id": "AzH9zQxb1wbO",
        "outputId": "621dd23b-8c48-4bd3-a2dc-d15940db6def",
        "colab": {
          "base_uri": "https://localhost:8080/"
        }
      },
      "outputs": [
        {
          "output_type": "execute_result",
          "data": {
            "text/plain": [
              "array([[1, 2, 3],\n",
              "       [4, 5, 6]])"
            ]
          },
          "metadata": {},
          "execution_count": 31
        }
      ],
      "source": [
        "vec.reshape(2, -1)"
      ]
    },
    {
      "cell_type": "markdown",
      "metadata": {
        "id": "WOgswJZK1wbO"
      },
      "source": [
        "Индексирование:"
      ]
    },
    {
      "cell_type": "code",
      "source": [
        "vec"
      ],
      "metadata": {
        "id": "qknn4JK65onZ",
        "outputId": "13fb7c41-b1c7-4d8c-a950-621c030f930c",
        "colab": {
          "base_uri": "https://localhost:8080/"
        }
      },
      "execution_count": 32,
      "outputs": [
        {
          "output_type": "execute_result",
          "data": {
            "text/plain": [
              "array([[1, 2],\n",
              "       [3, 4],\n",
              "       [5, 6]])"
            ]
          },
          "metadata": {},
          "execution_count": 32
        }
      ]
    },
    {
      "cell_type": "code",
      "execution_count": 33,
      "metadata": {
        "colab": {
          "base_uri": "https://localhost:8080/"
        },
        "id": "4tehPniq1wbO",
        "outputId": "6bd610f7-896e-4873-eb4f-f088eedce560"
      },
      "outputs": [
        {
          "output_type": "execute_result",
          "data": {
            "text/plain": [
              "array([2, 4, 6])"
            ]
          },
          "metadata": {},
          "execution_count": 33
        }
      ],
      "source": [
        "vec[:, 1]"
      ]
    },
    {
      "cell_type": "code",
      "execution_count": 34,
      "metadata": {
        "colab": {
          "base_uri": "https://localhost:8080/"
        },
        "id": "C9BwBsvp1wbO",
        "outputId": "3de8783a-2c16-429b-b6bc-ccad3bdf262e"
      },
      "outputs": [
        {
          "output_type": "execute_result",
          "data": {
            "text/plain": [
              "array([5, 6])"
            ]
          },
          "metadata": {},
          "execution_count": 34
        }
      ],
      "source": [
        "vec[2, :]"
      ]
    },
    {
      "cell_type": "code",
      "execution_count": 35,
      "metadata": {
        "colab": {
          "base_uri": "https://localhost:8080/"
        },
        "id": "TlgCGZO91wbP",
        "outputId": "56158d29-5a85-4f92-9731-387d9c52a5fb"
      },
      "outputs": [
        {
          "output_type": "execute_result",
          "data": {
            "text/plain": [
              "array([3])"
            ]
          },
          "metadata": {},
          "execution_count": 35
        }
      ],
      "source": [
        "vec[1:2, 0]"
      ]
    },
    {
      "cell_type": "code",
      "execution_count": 36,
      "metadata": {
        "colab": {
          "base_uri": "https://localhost:8080/"
        },
        "id": "PXGVa8dk1wbP",
        "outputId": "a709ca04-4ae7-4356-8d12-f68f37535d7b"
      },
      "outputs": [
        {
          "output_type": "execute_result",
          "data": {
            "text/plain": [
              "array([[1, 2],\n",
              "       [5, 6]])"
            ]
          },
          "metadata": {},
          "execution_count": 36
        }
      ],
      "source": [
        "vec[::2, :]"
      ]
    },
    {
      "cell_type": "markdown",
      "metadata": {
        "id": "0aYmcPWP1wbP"
      },
      "source": [
        "И, наконец - арифметические операции!"
      ]
    },
    {
      "cell_type": "code",
      "execution_count": 37,
      "metadata": {
        "id": "unvDOyPi1wbP",
        "outputId": "d565ab86-d403-4f0d-f147-84b457ac5b32",
        "colab": {
          "base_uri": "https://localhost:8080/"
        }
      },
      "outputs": [
        {
          "output_type": "execute_result",
          "data": {
            "text/plain": [
              "array([[2, 3],\n",
              "       [4, 5],\n",
              "       [6, 7]])"
            ]
          },
          "metadata": {},
          "execution_count": 37
        }
      ],
      "source": [
        "vec + 1"
      ]
    },
    {
      "cell_type": "code",
      "execution_count": 38,
      "metadata": {
        "id": "W6XF_adp1wbP",
        "outputId": "637ad123-afb3-41fe-de98-4b1270753a7d",
        "colab": {
          "base_uri": "https://localhost:8080/"
        }
      },
      "outputs": [
        {
          "output_type": "execute_result",
          "data": {
            "text/plain": [
              "array([[ 2,  4],\n",
              "       [ 6,  8],\n",
              "       [10, 12]])"
            ]
          },
          "metadata": {},
          "execution_count": 38
        }
      ],
      "source": [
        "vec * 2"
      ]
    },
    {
      "cell_type": "code",
      "execution_count": 39,
      "metadata": {
        "id": "OuYaSAhB1wbP",
        "outputId": "dfc55fe1-879a-4336-b9bc-49379feee94f",
        "colab": {
          "base_uri": "https://localhost:8080/"
        }
      },
      "outputs": [
        {
          "output_type": "execute_result",
          "data": {
            "text/plain": [
              "array([[ 1,  4],\n",
              "       [ 9, 16],\n",
              "       [25, 36]])"
            ]
          },
          "metadata": {},
          "execution_count": 39
        }
      ],
      "source": [
        "vec**2"
      ]
    },
    {
      "cell_type": "code",
      "execution_count": 40,
      "metadata": {
        "id": "QlOlrE5d1wbP",
        "outputId": "f2aac6d9-1419-47b8-faf4-123330ceef8a",
        "colab": {
          "base_uri": "https://localhost:8080/"
        }
      },
      "outputs": [
        {
          "output_type": "execute_result",
          "data": {
            "text/plain": [
              "array([[ 2,  6],\n",
              "       [12, 20],\n",
              "       [30, 42]])"
            ]
          },
          "metadata": {},
          "execution_count": 40
        }
      ],
      "source": [
        "vec + vec**2"
      ]
    },
    {
      "cell_type": "code",
      "execution_count": 41,
      "metadata": {
        "id": "CRXViwKu1wbP",
        "outputId": "acf782de-fe95-450f-9ee7-24d968da8b6b",
        "colab": {
          "base_uri": "https://localhost:8080/"
        }
      },
      "outputs": [
        {
          "output_type": "execute_result",
          "data": {
            "text/plain": [
              "array([[  1,   8],\n",
              "       [ 27,  64],\n",
              "       [125, 216]])"
            ]
          },
          "metadata": {},
          "execution_count": 41
        }
      ],
      "source": [
        "vec * vec**2"
      ]
    },
    {
      "cell_type": "code",
      "execution_count": 42,
      "metadata": {
        "id": "lNqxgFuQ1wbP",
        "outputId": "2fba3574-2e26-4ae2-949b-89e1406b3b7d",
        "colab": {
          "base_uri": "https://localhost:8080/"
        }
      },
      "outputs": [
        {
          "output_type": "execute_result",
          "data": {
            "text/plain": [
              "array([[ 0.84147098,  0.90929743],\n",
              "       [ 0.14112001, -0.7568025 ],\n",
              "       [-0.95892427, -0.2794155 ]])"
            ]
          },
          "metadata": {},
          "execution_count": 42
        }
      ],
      "source": [
        "np.sin(vec)"
      ]
    },
    {
      "cell_type": "markdown",
      "metadata": {
        "id": "Vo1-yCt21wbQ"
      },
      "source": [
        "Матричное умножение:"
      ]
    },
    {
      "cell_type": "code",
      "execution_count": 44,
      "metadata": {
        "id": "9eCqrMJC1wbQ",
        "outputId": "29a52ef3-d16a-4660-df69-1193f3d06dca",
        "colab": {
          "base_uri": "https://localhost:8080/"
        }
      },
      "outputs": [
        {
          "output_type": "execute_result",
          "data": {
            "text/plain": [
              "array([[  9,  41,  97],\n",
              "       [ 19,  91, 219],\n",
              "       [ 29, 141, 341]])"
            ]
          },
          "metadata": {},
          "execution_count": 44
        }
      ],
      "source": [
        "vec.dot((vec**2).T)"
      ]
    },
    {
      "cell_type": "code",
      "execution_count": 45,
      "metadata": {
        "id": "yqtBCKnR1wbQ",
        "outputId": "8e4a2665-d690-4e49-a441-419bca3f83ef",
        "colab": {
          "base_uri": "https://localhost:8080/"
        }
      },
      "outputs": [
        {
          "output_type": "execute_result",
          "data": {
            "text/plain": [
              "array([[  9,  41,  97],\n",
              "       [ 19,  91, 219],\n",
              "       [ 29, 141, 341]])"
            ]
          },
          "metadata": {},
          "execution_count": 45
        }
      ],
      "source": [
        "vec @ (vec**2).T"
      ]
    },
    {
      "cell_type": "code",
      "source": [
        "vec @ (vec.T)"
      ],
      "metadata": {
        "id": "2cRBDAbQ7U3H",
        "outputId": "a7a2a115-acbb-4298-8857-c251c934e513",
        "colab": {
          "base_uri": "https://localhost:8080/"
        }
      },
      "execution_count": 46,
      "outputs": [
        {
          "output_type": "execute_result",
          "data": {
            "text/plain": [
              "array([[ 5, 11, 17],\n",
              "       [11, 25, 39],\n",
              "       [17, 39, 61]])"
            ]
          },
          "metadata": {},
          "execution_count": 46
        }
      ]
    },
    {
      "cell_type": "code",
      "source": [
        "arr = np.arange(5, 10)*2\n",
        "print(arr)"
      ],
      "metadata": {
        "id": "I2NPmOmt75Wl",
        "outputId": "4867e51e-18de-4117-81a7-1e8b00200cd3",
        "colab": {
          "base_uri": "https://localhost:8080/"
        }
      },
      "execution_count": 48,
      "outputs": [
        {
          "output_type": "stream",
          "name": "stdout",
          "text": [
            "[10 12 14 16 18]\n"
          ]
        }
      ]
    },
    {
      "cell_type": "markdown",
      "metadata": {
        "id": "nMzw4Z0h1wbQ"
      },
      "source": [
        "Broadcasting:\n",
        "https://docs.scipy.org/doc/numpy-1.15.0/user/basics.broadcasting.html"
      ]
    },
    {
      "cell_type": "code",
      "execution_count": 47,
      "metadata": {
        "colab": {
          "base_uri": "https://localhost:8080/"
        },
        "id": "glXEE4XH1wbQ",
        "outputId": "56be5fce-3a0d-4461-e673-8f5ca7479698"
      },
      "outputs": [
        {
          "output_type": "execute_result",
          "data": {
            "text/plain": [
              "array([[1, 2],\n",
              "       [3, 4],\n",
              "       [5, 6]])"
            ]
          },
          "metadata": {},
          "execution_count": 47
        }
      ],
      "source": [
        "vec"
      ]
    },
    {
      "cell_type": "code",
      "execution_count": 49,
      "metadata": {
        "colab": {
          "base_uri": "https://localhost:8080/"
        },
        "id": "sx2F6Dfh1wbQ",
        "outputId": "0bfb09b1-bafb-4e3f-fd5e-5569ba42104e"
      },
      "outputs": [
        {
          "output_type": "execute_result",
          "data": {
            "text/plain": [
              "array([[0],\n",
              "       [1],\n",
              "       [2]])"
            ]
          },
          "metadata": {},
          "execution_count": 49
        }
      ],
      "source": [
        "np.arange(3).reshape(3, 1)"
      ]
    },
    {
      "cell_type": "code",
      "execution_count": 50,
      "metadata": {
        "colab": {
          "base_uri": "https://localhost:8080/"
        },
        "id": "JRyHkUK51wbQ",
        "outputId": "fb9c7d03-9465-405b-8e1c-9616b281c532"
      },
      "outputs": [
        {
          "output_type": "execute_result",
          "data": {
            "text/plain": [
              "array([[1, 2],\n",
              "       [4, 5],\n",
              "       [7, 8]])"
            ]
          },
          "metadata": {},
          "execution_count": 50
        }
      ],
      "source": [
        "vec + np.arange(3).reshape(3, 1)"
      ]
    },
    {
      "cell_type": "markdown",
      "metadata": {
        "id": "8pMbknlG1wbQ"
      },
      "source": [
        "Булевы массивы:"
      ]
    },
    {
      "cell_type": "code",
      "execution_count": 51,
      "metadata": {
        "id": "ilyaUFTE1wbQ",
        "outputId": "edc9d1fc-4da3-4b69-e487-dae9b4880789",
        "colab": {
          "base_uri": "https://localhost:8080/"
        }
      },
      "outputs": [
        {
          "output_type": "stream",
          "name": "stdout",
          "text": [
            "[[False  True]\n",
            " [False  True]\n",
            " [False  True]]\n"
          ]
        }
      ],
      "source": [
        "is_even = vec % 2 == 0\n",
        "print(is_even)"
      ]
    },
    {
      "cell_type": "code",
      "execution_count": 53,
      "metadata": {
        "id": "XQzVb7Xy1wbQ",
        "outputId": "64e1e7c0-e787-463e-a1d7-7b37a839e6e9",
        "colab": {
          "base_uri": "https://localhost:8080/"
        }
      },
      "outputs": [
        {
          "output_type": "execute_result",
          "data": {
            "text/plain": [
              "np.int64(3)"
            ]
          },
          "metadata": {},
          "execution_count": 53
        }
      ],
      "source": [
        "np.sum(is_even)"
      ]
    },
    {
      "cell_type": "markdown",
      "metadata": {
        "id": "Uelvr4rV1wbQ"
      },
      "source": [
        "Булевы массивы позволяют вытаскивать элементы с True из массива того-же размера"
      ]
    },
    {
      "cell_type": "code",
      "execution_count": 54,
      "metadata": {
        "id": "zlAwxAxM1wbR",
        "outputId": "db13652c-cc5e-4d98-ab16-a208a03ea384",
        "colab": {
          "base_uri": "https://localhost:8080/"
        }
      },
      "outputs": [
        {
          "output_type": "execute_result",
          "data": {
            "text/plain": [
              "array([2, 4, 6])"
            ]
          },
          "metadata": {},
          "execution_count": 54
        }
      ],
      "source": [
        "vec[vec % 2 == 0]"
      ]
    },
    {
      "cell_type": "markdown",
      "metadata": {
        "id": "Ze5dG31c1wbR"
      },
      "source": [
        "Иногда бывает полезно создавать специфичные массивы. Массив из нулей:"
      ]
    },
    {
      "cell_type": "code",
      "execution_count": 55,
      "metadata": {
        "id": "9UYeGrbn1wbR",
        "outputId": "447faf49-abcb-4785-b514-4693eea3932e",
        "colab": {
          "base_uri": "https://localhost:8080/"
        }
      },
      "outputs": [
        {
          "output_type": "execute_result",
          "data": {
            "text/plain": [
              "array([[0., 0., 0.],\n",
              "       [0., 0., 0.]])"
            ]
          },
          "metadata": {},
          "execution_count": 55
        }
      ],
      "source": [
        "np.zeros((2, 3))"
      ]
    },
    {
      "cell_type": "markdown",
      "metadata": {
        "id": "nt1Qf2y61wbR"
      },
      "source": [
        "Массив из единиц:"
      ]
    },
    {
      "cell_type": "code",
      "execution_count": 56,
      "metadata": {
        "id": "sqaOBCZp1wbR",
        "outputId": "6f00cd3b-77fa-4e96-b1c8-97d7a61ed77c",
        "colab": {
          "base_uri": "https://localhost:8080/"
        }
      },
      "outputs": [
        {
          "output_type": "execute_result",
          "data": {
            "text/plain": [
              "array([[1., 1.],\n",
              "       [1., 1.],\n",
              "       [1., 1.]])"
            ]
          },
          "metadata": {},
          "execution_count": 56
        }
      ],
      "source": [
        "np.ones((3, 2))"
      ]
    },
    {
      "cell_type": "markdown",
      "metadata": {
        "id": "p8ZxcS3e1wbR"
      },
      "source": [
        "Единичная матрица:"
      ]
    },
    {
      "cell_type": "code",
      "execution_count": null,
      "metadata": {
        "colab": {
          "base_uri": "https://localhost:8080/"
        },
        "id": "wXHYrCF-1wbR",
        "outputId": "e8488931-707a-49f5-8f42-740f2e4d0ec9"
      },
      "outputs": [
        {
          "output_type": "execute_result",
          "data": {
            "text/plain": [
              "array([[1., 0., 0., 0., 0.],\n",
              "       [0., 1., 0., 0., 0.],\n",
              "       [0., 0., 1., 0., 0.],\n",
              "       [0., 0., 0., 1., 0.],\n",
              "       [0., 0., 0., 0., 1.]])"
            ]
          },
          "metadata": {},
          "execution_count": 68
        }
      ],
      "source": [
        "np.identity(5)"
      ]
    },
    {
      "cell_type": "markdown",
      "metadata": {
        "id": "cKVHffVB1wbR"
      },
      "source": [
        "Массивы можно объединять:"
      ]
    },
    {
      "cell_type": "code",
      "execution_count": null,
      "metadata": {
        "colab": {
          "base_uri": "https://localhost:8080/"
        },
        "id": "ocdbfM6T1wbR",
        "outputId": "04264be9-13cf-4793-ebf3-84919dc71881"
      },
      "outputs": [
        {
          "output_type": "execute_result",
          "data": {
            "text/plain": [
              "array([[1, 2],\n",
              "       [3, 4],\n",
              "       [5, 6]])"
            ]
          },
          "metadata": {},
          "execution_count": 69
        }
      ],
      "source": [
        "vec"
      ]
    },
    {
      "cell_type": "code",
      "execution_count": null,
      "metadata": {
        "colab": {
          "base_uri": "https://localhost:8080/"
        },
        "id": "q5oMRq5r1wbR",
        "outputId": "1be175f6-3bd3-48fa-b744-40630efe6135"
      },
      "outputs": [
        {
          "output_type": "execute_result",
          "data": {
            "text/plain": [
              "array([[1., 2., 0., 0.],\n",
              "       [3., 4., 0., 0.],\n",
              "       [5., 6., 0., 0.]])"
            ]
          },
          "metadata": {},
          "execution_count": 70
        }
      ],
      "source": [
        "np.hstack((vec, np.zeros(vec.shape)))"
      ]
    },
    {
      "cell_type": "code",
      "execution_count": 57,
      "metadata": {
        "id": "AOG5O2gg1wbR",
        "outputId": "b8214f3e-5c24-46c7-ed5c-049f808fb7b7",
        "colab": {
          "base_uri": "https://localhost:8080/"
        }
      },
      "outputs": [
        {
          "output_type": "execute_result",
          "data": {
            "text/plain": [
              "array([[1., 2.],\n",
              "       [3., 4.],\n",
              "       [5., 6.],\n",
              "       [0., 0.],\n",
              "       [0., 0.],\n",
              "       [0., 0.]])"
            ]
          },
          "metadata": {},
          "execution_count": 57
        }
      ],
      "source": [
        "np.vstack((vec, np.zeros(vec.shape)))"
      ]
    },
    {
      "cell_type": "markdown",
      "metadata": {
        "id": "eb88-8Qh1wbR"
      },
      "source": [
        "Генерация случайных чисел:"
      ]
    },
    {
      "cell_type": "code",
      "source": [
        "np.random.seed(623)\n",
        "np.random.rand(2, 3)"
      ],
      "metadata": {
        "id": "30iAoaum9Sh4",
        "outputId": "f6008b7b-5123-499f-b5af-8bf0f82343e2",
        "colab": {
          "base_uri": "https://localhost:8080/"
        }
      },
      "execution_count": null,
      "outputs": [
        {
          "output_type": "execute_result",
          "data": {
            "text/plain": [
              "array([[0.70373071, 0.8009102 , 0.18159105],\n",
              "       [0.9936218 , 0.67697202, 0.75762167]])"
            ]
          },
          "metadata": {},
          "execution_count": 84
        }
      ]
    },
    {
      "cell_type": "code",
      "execution_count": 58,
      "metadata": {
        "id": "AKh9Ug2J1wbS",
        "outputId": "629d3b3d-7c27-4380-caea-8821b8ce9ea4",
        "colab": {
          "base_uri": "https://localhost:8080/"
        }
      },
      "outputs": [
        {
          "output_type": "execute_result",
          "data": {
            "text/plain": [
              "array([[0.80502665, 0.76188876, 0.14200583],\n",
              "       [0.56108082, 0.33650395, 0.02111401]])"
            ]
          },
          "metadata": {},
          "execution_count": 58
        }
      ],
      "source": [
        "np.random.rand(2, 3)"
      ]
    },
    {
      "cell_type": "code",
      "execution_count": 59,
      "metadata": {
        "id": "IUSbpNp81wbS",
        "outputId": "28a234ff-de09-4f56-d1ee-54a3c0b7d41f",
        "colab": {
          "base_uri": "https://localhost:8080/"
        }
      },
      "outputs": [
        {
          "output_type": "execute_result",
          "data": {
            "text/plain": [
              "array([[0.90348221, 0.39308051, 0.62396996],\n",
              "       [0.6378774 , 0.88049907, 0.29917202]])"
            ]
          },
          "metadata": {},
          "execution_count": 59
        }
      ],
      "source": [
        "np.random.seed(2019)\n",
        "np.random.rand(2, 3)"
      ]
    },
    {
      "cell_type": "code",
      "execution_count": 60,
      "metadata": {
        "id": "-J3OPAJj1wbS",
        "outputId": "b5526c41-ed6b-4040-c871-f4940d9c458c",
        "colab": {
          "base_uri": "https://localhost:8080/"
        }
      },
      "outputs": [
        {
          "output_type": "execute_result",
          "data": {
            "text/plain": [
              "array([[ 0.57376143,  0.28772767],\n",
              "       [-0.23563426,  0.95349024],\n",
              "       [-1.6896253 , -0.34494271]])"
            ]
          },
          "metadata": {},
          "execution_count": 60
        }
      ],
      "source": [
        "np.random.randn(3, 2)"
      ]
    },
    {
      "cell_type": "code",
      "execution_count": 61,
      "metadata": {
        "id": "5lAnt4ya1wbS",
        "outputId": "2e0d73fe-3319-47a5-d9cf-1bd0eaa766f7",
        "colab": {
          "base_uri": "https://localhost:8080/"
        }
      },
      "outputs": [
        {
          "output_type": "execute_result",
          "data": {
            "text/plain": [
              "array([2.0169049 , 1.48501648, 2.24450929])"
            ]
          },
          "metadata": {},
          "execution_count": 61
        }
      ],
      "source": [
        "np.random.normal(2, 1, size=3)"
      ]
    },
    {
      "cell_type": "code",
      "execution_count": 62,
      "metadata": {
        "colab": {
          "base_uri": "https://localhost:8080/"
        },
        "id": "Q0M_LeaS1wbS",
        "outputId": "b654f3e0-786a-4c2d-ef6e-a7f249f7a95d"
      },
      "outputs": [
        {
          "output_type": "execute_result",
          "data": {
            "text/plain": [
              "array([7.5680996 , 7.89150793, 6.49641327])"
            ]
          },
          "metadata": {},
          "execution_count": 62
        }
      ],
      "source": [
        "np.random.uniform(5, 10, size=3)"
      ]
    },
    {
      "cell_type": "markdown",
      "metadata": {
        "id": "JQ7lpsTj1wbS"
      },
      "source": [
        "Почему вообще используют `numpy`?"
      ]
    },
    {
      "cell_type": "code",
      "execution_count": 65,
      "metadata": {
        "colab": {
          "base_uri": "https://localhost:8080/"
        },
        "id": "b01YbyyK1wbS",
        "outputId": "103f558c-ddfc-419d-9a43-7c92657427cc"
      },
      "outputs": [
        {
          "output_type": "stream",
          "name": "stdout",
          "text": [
            "[[0.8371974  0.52664983 0.10484424 0.27812941 0.04659494]\n",
            " [0.50907615 0.47242629 0.90448733 0.94349222 0.70339235]\n",
            " [0.84629795 0.92799464 0.81936188 0.84518556 0.79145187]\n",
            " [0.17100016 0.28997792 0.30448392 0.1476601  0.57381853]\n",
            " [0.86355701 0.32329947 0.27564943 0.68218738 0.19140631]] [[0.58102448 0.86255827 0.23452664 0.28985187 0.38285364]\n",
            " [0.34960393 0.32879374 0.94017484 0.0380261  0.77684511]\n",
            " [0.38464466 0.71672375 0.45246511 0.69896235 0.35362047]\n",
            " [0.79423435 0.29711244 0.25063809 0.85179036 0.81562092]\n",
            " [0.43428899 0.76359571 0.32958304 0.21278897 0.42188698]]\n"
          ]
        }
      ],
      "source": [
        "n = 5\n",
        "A = np.random.rand(n, n)\n",
        "B = np.random.rand(n, n)\n",
        "print(A, B)"
      ]
    },
    {
      "cell_type": "code",
      "execution_count": 66,
      "metadata": {
        "colab": {
          "base_uri": "https://localhost:8080/"
        },
        "id": "XKUORvmV1wbS",
        "outputId": "71bef3a3-a3af-4a56-8861-02bf6b7465e1"
      },
      "outputs": [
        {
          "output_type": "stream",
          "name": "stdout",
          "text": [
            "CPU times: user 134 µs, sys: 19 µs, total: 153 µs\n",
            "Wall time: 159 µs\n"
          ]
        }
      ],
      "source": [
        "%%time\n",
        "C = np.zeros((n, n))\n",
        "for i in range(n):\n",
        "    for j in range(n):\n",
        "        for k in range(n):\n",
        "            C[i, j] += A[i, k] * B[k, j]"
      ]
    },
    {
      "cell_type": "code",
      "execution_count": 67,
      "metadata": {
        "colab": {
          "base_uri": "https://localhost:8080/"
        },
        "id": "NkebdPGn1wbS",
        "outputId": "9da5d12f-d7a6-4a79-9a5b-92a9edd5672e"
      },
      "outputs": [
        {
          "output_type": "stream",
          "name": "stdout",
          "text": [
            "CPU times: user 2.32 ms, sys: 31 µs, total: 2.35 ms\n",
            "Wall time: 13.6 ms\n"
          ]
        }
      ],
      "source": [
        "%%time\n",
        "C = A @ B"
      ]
    },
    {
      "cell_type": "markdown",
      "metadata": {
        "id": "Urtn1vIV1wbS"
      },
      "source": [
        "### Задания для самостоятельного решения"
      ]
    },
    {
      "cell_type": "markdown",
      "metadata": {
        "id": "GTUgqEaw1wbS"
      },
      "source": [
        "1. Развернуть одномерный массив (сделать так, чтобы его элементы шли в обратном порядке).\n",
        "2. Найти максимальный нечетный элемент в массиве.\n",
        "3. Замените все нечетные элементы массива на ваше любимое число.\n",
        "4. Создайте массив первых n нечетных чисел, записанных в порядке убывания. Например, если `n=5`, то ответом будет `array([9, 7, 5, 3, 1])`. *Функции, которые могут пригодиться при решении: `.arange()`*\n",
        "5. Вычислите самое близкое и самое дальнее числа к данному в рассматриваемом массиве чисел. Например, если на вход поступают массив `array([0, 1, 2, 3, 4])` и число 1.33, то ответом будет `(1, 4)`. _Функции, которые могут пригодиться при решении: `.abs()`, `.argmax()`, `.argmin()`_\n",
        "6. Вычисляющую первообразную заданного полинома (в качестве константы возьмите ваше любимое число). Например, если на вход поступает массив коэффициентов `array([4, 6, 0, 1])`, что соответствует полиному $4x^3 + 6x^2 + 1$, на выходе получается массив коэффициентов `array([1, 2, 0, 1, -2])`, соответствующий полиному $x^4 + 2x^3 + x - 2$. _Функции, которые могут пригодиться при решении: `.append()`_\n",
        "7. Пользуясь пунктом 6, посчитайте первую производную для заданного полинома в заданной точке."
      ]
    },
    {
      "cell_type": "code",
      "source": [
        "#1\n",
        "a = np.array([1,2,3,4,5])\n",
        "a = np.flip(a)\n",
        "print(a)\n"
      ],
      "metadata": {
        "id": "tpJn30Gu-G9a",
        "outputId": "78ebb0b4-2d43-4c32-f592-f0b55b206bbc",
        "colab": {
          "base_uri": "https://localhost:8080/"
        }
      },
      "execution_count": 68,
      "outputs": [
        {
          "output_type": "stream",
          "name": "stdout",
          "text": [
            "[5 4 3 2 1]\n"
          ]
        }
      ]
    },
    {
      "cell_type": "code",
      "source": [
        "#2\n",
        "a = np.random.randint(1, 10, size = 5)\n",
        "print(a)\n",
        "print(np.max(a[a%2==0]))\n",
        "\n"
      ],
      "metadata": {
        "id": "-j6ZFU-W-6t8",
        "outputId": "d93f2b8d-09e2-4e98-a654-eccac74525f2",
        "colab": {
          "base_uri": "https://localhost:8080/"
        }
      },
      "execution_count": 69,
      "outputs": [
        {
          "output_type": "stream",
          "name": "stdout",
          "text": [
            "[5 4 1 9 7]\n",
            "4\n"
          ]
        }
      ]
    },
    {
      "cell_type": "code",
      "source": [
        "#3\n",
        "a = np.random.randint(1, 10, size = 5)\n",
        "print(a)\n",
        "a[a%2!=0] = 7\n",
        "print(a)"
      ],
      "metadata": {
        "id": "VaF8MhoN_rw4",
        "outputId": "2da07ef2-0c34-47c1-e883-34006dfb51d5",
        "colab": {
          "base_uri": "https://localhost:8080/"
        }
      },
      "execution_count": 5,
      "outputs": [
        {
          "output_type": "stream",
          "name": "stdout",
          "text": [
            "[2 4 3 3 3]\n",
            "[2 4 7 7 7]\n"
          ]
        }
      ]
    },
    {
      "cell_type": "code",
      "source": [
        "#4\n",
        "n = 10\n",
        "a = np.arange(2*n - 1, 0, -2)\n",
        "print(a)"
      ],
      "metadata": {
        "id": "xa6EHNUPhlah",
        "outputId": "9c17ee4d-48db-455c-f32f-1345f3bdd64a",
        "colab": {
          "base_uri": "https://localhost:8080/"
        }
      },
      "execution_count": 6,
      "outputs": [
        {
          "output_type": "stream",
          "name": "stdout",
          "text": [
            "[19 17 15 13 11  9  7  5  3  1]\n"
          ]
        }
      ]
    },
    {
      "cell_type": "code",
      "source": [
        "#5\n",
        "from random import randint\n",
        "a = np.random.randint(1, 10, size = 5)\n",
        "b = randint(1, 10)\n",
        "print(a)\n",
        "print(b)\n",
        "nearest = a[np.abs(a - b).argmin()]\n",
        "farthest = a[np.abs(a - b).argmax()]\n",
        "print(nearest, farthest)\n",
        "\n"
      ],
      "metadata": {
        "id": "jdZRRBJ5iLVI",
        "outputId": "df9f624e-21d7-4531-ffd8-ae0c79548798",
        "colab": {
          "base_uri": "https://localhost:8080/"
        }
      },
      "execution_count": 12,
      "outputs": [
        {
          "output_type": "stream",
          "name": "stdout",
          "text": [
            "[4 5 9 8 3]\n",
            "10\n",
            "9 3\n"
          ]
        }
      ]
    },
    {
      "cell_type": "code",
      "source": [
        "#6\n",
        "coeffs = np.array([4, 6, 0, 1])\n",
        "n = len(coeffs)\n",
        "primitive_coeffs = [coeffs[i] / (n - i) for i in range(n)]\n",
        "primitive_coeffs.append(7)\n",
        "print(np.array(primitive_coeffs))\n",
        "\n",
        "\n"
      ],
      "metadata": {
        "id": "xkidEAc0ngTH",
        "outputId": "8364fdb2-dc25-4deb-bce7-564dbfe84c96",
        "colab": {
          "base_uri": "https://localhost:8080/"
        }
      },
      "execution_count": 83,
      "outputs": [
        {
          "output_type": "stream",
          "name": "stdout",
          "text": [
            "[1. 2. 0. 1. 7.]\n"
          ]
        }
      ]
    },
    {
      "cell_type": "code",
      "execution_count": null,
      "metadata": {
        "id": "CCGAtFDt1wbT"
      },
      "outputs": [],
      "source": [
        "# ┌(▼▼メ)┘ └(メ▼▼)┐"
      ]
    }
  ],
  "metadata": {
    "kernelspec": {
      "display_name": "Python 3",
      "language": "python",
      "name": "python3"
    },
    "language_info": {
      "codemirror_mode": {
        "name": "ipython",
        "version": 3
      },
      "file_extension": ".py",
      "mimetype": "text/x-python",
      "name": "python",
      "nbconvert_exporter": "python",
      "pygments_lexer": "ipython3",
      "version": "3.8.8"
    },
    "colab": {
      "provenance": []
    }
  },
  "nbformat": 4,
  "nbformat_minor": 0
}