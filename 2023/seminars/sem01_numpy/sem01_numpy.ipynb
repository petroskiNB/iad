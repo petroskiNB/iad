{
  "cells": [
    {
      "cell_type": "markdown",
      "metadata": {
        "id": "flPauhkF1wbI"
      },
      "source": [
        "# Семинар 1: знакомство с NumPy\n"
      ]
    },
    {
      "cell_type": "code",
      "source": [
        "print('hi')"
      ],
      "metadata": {
        "colab": {
          "base_uri": "https://localhost:8080/"
        },
        "id": "1aaWbESC12MF",
        "outputId": "9b8a5872-c1b5-4121-d525-dd06826304f5"
      },
      "execution_count": 58,
      "outputs": [
        {
          "output_type": "stream",
          "name": "stdout",
          "text": [
            "hi\n"
          ]
        }
      ]
    },
    {
      "cell_type": "markdown",
      "metadata": {
        "id": "EM3qQX881wbJ"
      },
      "source": [
        "## Немного про Jupyter notebook"
      ]
    },
    {
      "cell_type": "markdown",
      "metadata": {
        "id": "vlQUZ8z-1wbJ"
      },
      "source": [
        "Полная документация: https://devpractice.ru/python-lesson-6-work-in-jupyter-notebook/\n",
        "\n",
        "---\n",
        "В Jupyter Notebook есть два режима работы: режим _команд_ и режим _редактирования_\n",
        "\n",
        "_Командный_ режим нужен для того, чтобы взаимодействовать и управлять ячейками (добавлять, удалять, запускать, копировать, ...)\n",
        "\n",
        "В режиме _редактирования_ вы меняете содержимое ячейки.\n",
        "\n",
        "Ячейки бывают двух основных типов, _код_ и _разметка_\n",
        "\n",
        "### Полезные команды\n",
        "\n",
        "(находясь в командном режиме)\n",
        "\n",
        "- `a` - добавить пустую ячейку сверху\n",
        "\n",
        "- `b` - добавить пустую ячейку снизу\n",
        "- `c` - скопировать текущую ячейку\n",
        "- `v` - вставить скопированную ячейку\n",
        "- `d` - удалить текущую ячейку\n",
        "- `x` - вырезать (удалить и скопировать) текущую ячейку\n",
        "- `m` - изменить тип выбранной ячейки на \"разметка\"\n",
        "- `y` - изменить тип выбранной ячейки на \"код\"\n",
        "- `z` - отменить последнее действие\n",
        "\n",
        "\n",
        "- `Enter` - начать редактировать выбранную ячейку\n",
        "\n",
        "(будучи в режим редактирования ячейки)\n",
        "- `esc` - вернуться в командный режим\n",
        "\n",
        "(будучи в любом режиме)\n",
        "\n",
        "- `Ctrl + Enter` - запустить выбранную ячейку\n",
        "- `Shift + Enter` - запустить выбранную ячейку и выбрать следующую"
      ]
    },
    {
      "cell_type": "code",
      "execution_count": null,
      "metadata": {
        "id": "s8DS6_0I1wbK",
        "outputId": "7f787fc9-9ada-40ff-a8dd-f5aae2a0975a"
      },
      "outputs": [
        {
          "data": {
            "text/plain": [
              "5"
            ]
          },
          "execution_count": 7,
          "metadata": {},
          "output_type": "execute_result"
        }
      ],
      "source": [
        "2 + 2"
      ]
    },
    {
      "cell_type": "markdown",
      "metadata": {
        "id": "f8npeuAa1wbL"
      },
      "source": [
        "## numpy"
      ]
    },
    {
      "cell_type": "markdown",
      "metadata": {
        "id": "jIY-8faX1wbL"
      },
      "source": [
        "- документация: http://www.numpy.org/"
      ]
    },
    {
      "cell_type": "markdown",
      "metadata": {
        "id": "Sd0qajnG1wbL"
      },
      "source": [
        "Библиотека numpy является удобным инструментом для работы с многомерными массивами с возможностью векторизации вычислений. Рассмотрим базовые вещи, которые можно делать с помощью нее."
      ]
    },
    {
      "cell_type": "code",
      "execution_count": null,
      "metadata": {
        "id": "mZDgbejb1wbL"
      },
      "outputs": [],
      "source": [
        "import numpy as np"
      ]
    },
    {
      "cell_type": "code",
      "execution_count": null,
      "metadata": {
        "id": "kM6Gn4Tc1wbM"
      },
      "outputs": [],
      "source": [
        "vec = np.array([[1, 2], [3, 4], [5, 6]])"
      ]
    },
    {
      "cell_type": "code",
      "execution_count": null,
      "metadata": {
        "id": "24_Ow6oI1wbM"
      },
      "outputs": [],
      "source": [
        "vec"
      ]
    },
    {
      "cell_type": "code",
      "execution_count": null,
      "metadata": {
        "id": "89TW10n11wbM"
      },
      "outputs": [],
      "source": [
        "print(vec)"
      ]
    },
    {
      "cell_type": "markdown",
      "metadata": {
        "id": "muDdC2J21wbM"
      },
      "source": [
        "С чем мы работаем?"
      ]
    },
    {
      "cell_type": "code",
      "execution_count": null,
      "metadata": {
        "id": "YN8dlF1m1wbM"
      },
      "outputs": [],
      "source": [
        "vec.dtype"
      ]
    },
    {
      "cell_type": "code",
      "execution_count": null,
      "metadata": {
        "id": "SiXdYwiY1wbM"
      },
      "outputs": [],
      "source": [
        "type(vec)"
      ]
    },
    {
      "cell_type": "markdown",
      "metadata": {
        "id": "Vi83vGW01wbM"
      },
      "source": [
        "Размер массива:"
      ]
    },
    {
      "cell_type": "code",
      "execution_count": null,
      "metadata": {
        "id": "yTDlUVnC1wbM"
      },
      "outputs": [],
      "source": [
        "vec.shape"
      ]
    },
    {
      "cell_type": "markdown",
      "metadata": {
        "id": "9UYPWlXn1wbM"
      },
      "source": [
        "Число осей:"
      ]
    },
    {
      "cell_type": "code",
      "execution_count": null,
      "metadata": {
        "id": "YJrXQfrU1wbM"
      },
      "outputs": [],
      "source": [
        "vec.ndim"
      ]
    },
    {
      "cell_type": "markdown",
      "metadata": {
        "id": "TZaNRnC31wbN"
      },
      "source": [
        "У некоторых функций бывает параметр `axis`, который позволяет применить эту функцию по разным осям - в данном случае, по строкам или столбцам:"
      ]
    },
    {
      "cell_type": "code",
      "execution_count": null,
      "metadata": {
        "id": "itVTfzb31wbN"
      },
      "outputs": [],
      "source": [
        "np.sum(vec)"
      ]
    },
    {
      "cell_type": "code",
      "execution_count": 95,
      "metadata": {
        "colab": {
          "base_uri": "https://localhost:8080/"
        },
        "id": "rqUGQv3H1wbN",
        "outputId": "6e2dc020-69e8-4a62-9137-e73fa836b33b"
      },
      "outputs": [
        {
          "output_type": "execute_result",
          "data": {
            "text/plain": [
              "array([ 9, 12])"
            ]
          },
          "metadata": {},
          "execution_count": 95
        }
      ],
      "source": [
        "np.sum(vec, axis=0)"
      ]
    },
    {
      "cell_type": "code",
      "execution_count": null,
      "metadata": {
        "id": "ABefQ_Eo1wbN"
      },
      "outputs": [],
      "source": [
        "np.sum(vec, axis=1)"
      ]
    },
    {
      "cell_type": "code",
      "execution_count": null,
      "metadata": {
        "id": "i2xRlW6d1wbN"
      },
      "outputs": [],
      "source": [
        "vec.sum()"
      ]
    },
    {
      "cell_type": "markdown",
      "metadata": {
        "id": "2s8kXXjS1wbN"
      },
      "source": [
        "Транспонируем массив:"
      ]
    },
    {
      "cell_type": "code",
      "execution_count": null,
      "metadata": {
        "id": "YwYC8zBT1wbN"
      },
      "outputs": [],
      "source": [
        "vec.T"
      ]
    },
    {
      "cell_type": "code",
      "execution_count": null,
      "metadata": {
        "id": "ADYEyYSg1wbN"
      },
      "outputs": [],
      "source": [
        "vec.transpose()"
      ]
    },
    {
      "cell_type": "markdown",
      "metadata": {
        "id": "LBlJHmPm1wbN"
      },
      "source": [
        "Обратите внимание, что переменная `vec` не поменялась!"
      ]
    },
    {
      "cell_type": "code",
      "execution_count": null,
      "metadata": {
        "id": "qmdVxVK21wbN"
      },
      "outputs": [],
      "source": [
        "vec"
      ]
    },
    {
      "cell_type": "markdown",
      "metadata": {
        "id": "vEsLaIB41wbO"
      },
      "source": [
        "Размеры массивов можно менять:"
      ]
    },
    {
      "cell_type": "code",
      "execution_count": null,
      "metadata": {
        "id": "uuQoMCha1wbO"
      },
      "outputs": [],
      "source": [
        "vec.reshape(2, 3)"
      ]
    },
    {
      "cell_type": "code",
      "execution_count": null,
      "metadata": {
        "id": "EOtKvpcU1wbO"
      },
      "outputs": [],
      "source": [
        "vec.reshape(-1, 3)"
      ]
    },
    {
      "cell_type": "code",
      "execution_count": null,
      "metadata": {
        "id": "AzH9zQxb1wbO"
      },
      "outputs": [],
      "source": [
        "vec.reshape(2, -1)"
      ]
    },
    {
      "cell_type": "markdown",
      "metadata": {
        "id": "WOgswJZK1wbO"
      },
      "source": [
        "Индексирование:"
      ]
    },
    {
      "cell_type": "code",
      "source": [
        "vec"
      ],
      "metadata": {
        "id": "qknn4JK65onZ",
        "outputId": "f844abfc-8eab-4a1b-9c59-16dfbb0a9ebc",
        "colab": {
          "base_uri": "https://localhost:8080/"
        }
      },
      "execution_count": 61,
      "outputs": [
        {
          "output_type": "execute_result",
          "data": {
            "text/plain": [
              "array([[1, 2],\n",
              "       [3, 4],\n",
              "       [5, 6]])"
            ]
          },
          "metadata": {},
          "execution_count": 61
        }
      ]
    },
    {
      "cell_type": "code",
      "execution_count": 59,
      "metadata": {
        "colab": {
          "base_uri": "https://localhost:8080/"
        },
        "id": "4tehPniq1wbO",
        "outputId": "85c2eb57-0234-497f-9c46-fa24e5d9ccbe"
      },
      "outputs": [
        {
          "output_type": "execute_result",
          "data": {
            "text/plain": [
              "array([2, 4, 6])"
            ]
          },
          "metadata": {},
          "execution_count": 59
        }
      ],
      "source": [
        "vec[:, 1]"
      ]
    },
    {
      "cell_type": "code",
      "execution_count": 60,
      "metadata": {
        "colab": {
          "base_uri": "https://localhost:8080/"
        },
        "id": "C9BwBsvp1wbO",
        "outputId": "7e6bf097-2d60-4870-9088-4e4349e1e487"
      },
      "outputs": [
        {
          "output_type": "execute_result",
          "data": {
            "text/plain": [
              "array([5, 6])"
            ]
          },
          "metadata": {},
          "execution_count": 60
        }
      ],
      "source": [
        "vec[2, :]"
      ]
    },
    {
      "cell_type": "code",
      "execution_count": 63,
      "metadata": {
        "colab": {
          "base_uri": "https://localhost:8080/"
        },
        "id": "TlgCGZO91wbP",
        "outputId": "553ad16c-bf47-45f7-f4fa-5f4fcdfcab63"
      },
      "outputs": [
        {
          "output_type": "execute_result",
          "data": {
            "text/plain": [
              "array([3])"
            ]
          },
          "metadata": {},
          "execution_count": 63
        }
      ],
      "source": [
        "vec[1:2, 0]"
      ]
    },
    {
      "cell_type": "code",
      "execution_count": 64,
      "metadata": {
        "colab": {
          "base_uri": "https://localhost:8080/"
        },
        "id": "PXGVa8dk1wbP",
        "outputId": "7c49147d-37b4-40dc-93d6-ce0df335ca81"
      },
      "outputs": [
        {
          "output_type": "execute_result",
          "data": {
            "text/plain": [
              "array([[1, 2],\n",
              "       [5, 6]])"
            ]
          },
          "metadata": {},
          "execution_count": 64
        }
      ],
      "source": [
        "vec[::2, :]"
      ]
    },
    {
      "cell_type": "markdown",
      "metadata": {
        "id": "0aYmcPWP1wbP"
      },
      "source": [
        "И, наконец - арифметические операции!"
      ]
    },
    {
      "cell_type": "code",
      "execution_count": null,
      "metadata": {
        "id": "unvDOyPi1wbP"
      },
      "outputs": [],
      "source": [
        "vec + 1"
      ]
    },
    {
      "cell_type": "code",
      "execution_count": null,
      "metadata": {
        "id": "W6XF_adp1wbP"
      },
      "outputs": [],
      "source": [
        "vec * 2"
      ]
    },
    {
      "cell_type": "code",
      "execution_count": null,
      "metadata": {
        "id": "OuYaSAhB1wbP"
      },
      "outputs": [],
      "source": [
        "vec**2"
      ]
    },
    {
      "cell_type": "code",
      "execution_count": null,
      "metadata": {
        "id": "QlOlrE5d1wbP"
      },
      "outputs": [],
      "source": [
        "vec + vec**2"
      ]
    },
    {
      "cell_type": "code",
      "execution_count": null,
      "metadata": {
        "id": "CRXViwKu1wbP"
      },
      "outputs": [],
      "source": [
        "vec * vec**2"
      ]
    },
    {
      "cell_type": "code",
      "execution_count": null,
      "metadata": {
        "id": "lNqxgFuQ1wbP"
      },
      "outputs": [],
      "source": [
        "np.sin(vec)"
      ]
    },
    {
      "cell_type": "markdown",
      "metadata": {
        "id": "Vo1-yCt21wbQ"
      },
      "source": [
        "Матричное умножение:"
      ]
    },
    {
      "cell_type": "code",
      "execution_count": null,
      "metadata": {
        "id": "5gDTTdIo1wbQ"
      },
      "outputs": [],
      "source": [
        "vec.dot(vec**2)"
      ]
    },
    {
      "cell_type": "code",
      "execution_count": null,
      "metadata": {
        "id": "9eCqrMJC1wbQ"
      },
      "outputs": [],
      "source": [
        "vec.dot((vec**2).T)"
      ]
    },
    {
      "cell_type": "code",
      "execution_count": null,
      "metadata": {
        "id": "yqtBCKnR1wbQ"
      },
      "outputs": [],
      "source": [
        "vec @ (vec**2).T"
      ]
    },
    {
      "cell_type": "code",
      "source": [
        "vec @ (vec.T)"
      ],
      "metadata": {
        "id": "2cRBDAbQ7U3H",
        "outputId": "2db80668-fb66-4719-dca3-4687e1a648e9",
        "colab": {
          "base_uri": "https://localhost:8080/"
        }
      },
      "execution_count": 71,
      "outputs": [
        {
          "output_type": "execute_result",
          "data": {
            "text/plain": [
              "array([[ 5, 11, 17],\n",
              "       [11, 25, 39],\n",
              "       [17, 39, 61]])"
            ]
          },
          "metadata": {},
          "execution_count": 71
        }
      ]
    },
    {
      "cell_type": "code",
      "source": [
        "arr = np.arange(5, 10)*2\n",
        "print(arr)"
      ],
      "metadata": {
        "id": "I2NPmOmt75Wl",
        "outputId": "85dc700a-b93a-467e-8d83-d37411583a45",
        "colab": {
          "base_uri": "https://localhost:8080/"
        }
      },
      "execution_count": 75,
      "outputs": [
        {
          "output_type": "stream",
          "name": "stdout",
          "text": [
            "[10 12 14 16 18]\n"
          ]
        }
      ]
    },
    {
      "cell_type": "markdown",
      "metadata": {
        "id": "nMzw4Z0h1wbQ"
      },
      "source": [
        "Broadcasting:\n",
        "https://docs.scipy.org/doc/numpy-1.15.0/user/basics.broadcasting.html"
      ]
    },
    {
      "cell_type": "code",
      "execution_count": 65,
      "metadata": {
        "colab": {
          "base_uri": "https://localhost:8080/"
        },
        "id": "glXEE4XH1wbQ",
        "outputId": "1d0b68f7-1c8d-4f83-9b3d-eaa66b4b54ee"
      },
      "outputs": [
        {
          "output_type": "execute_result",
          "data": {
            "text/plain": [
              "array([[1, 2],\n",
              "       [3, 4],\n",
              "       [5, 6]])"
            ]
          },
          "metadata": {},
          "execution_count": 65
        }
      ],
      "source": [
        "vec"
      ]
    },
    {
      "cell_type": "code",
      "execution_count": 66,
      "metadata": {
        "colab": {
          "base_uri": "https://localhost:8080/"
        },
        "id": "sx2F6Dfh1wbQ",
        "outputId": "f0f28158-c6d7-4624-8e24-fdda0947ace2"
      },
      "outputs": [
        {
          "output_type": "execute_result",
          "data": {
            "text/plain": [
              "array([[0],\n",
              "       [1],\n",
              "       [2]])"
            ]
          },
          "metadata": {},
          "execution_count": 66
        }
      ],
      "source": [
        "np.arange(3).reshape(3, 1)"
      ]
    },
    {
      "cell_type": "code",
      "execution_count": 67,
      "metadata": {
        "colab": {
          "base_uri": "https://localhost:8080/"
        },
        "id": "JRyHkUK51wbQ",
        "outputId": "1b832ee1-0f90-40bb-9419-3ee3f949e8d0"
      },
      "outputs": [
        {
          "output_type": "execute_result",
          "data": {
            "text/plain": [
              "array([[1, 2],\n",
              "       [4, 5],\n",
              "       [7, 8]])"
            ]
          },
          "metadata": {},
          "execution_count": 67
        }
      ],
      "source": [
        "vec + np.arange(3).reshape(3, 1)"
      ]
    },
    {
      "cell_type": "markdown",
      "metadata": {
        "id": "8pMbknlG1wbQ"
      },
      "source": [
        "Булевы массивы:"
      ]
    },
    {
      "cell_type": "code",
      "execution_count": null,
      "metadata": {
        "id": "ilyaUFTE1wbQ"
      },
      "outputs": [],
      "source": [
        "is_even = vec % 2 == 0\n",
        "print(is_even)"
      ]
    },
    {
      "cell_type": "code",
      "execution_count": null,
      "metadata": {
        "id": "XQzVb7Xy1wbQ"
      },
      "outputs": [],
      "source": [
        "np.sum(is_even)"
      ]
    },
    {
      "cell_type": "markdown",
      "metadata": {
        "id": "Uelvr4rV1wbQ"
      },
      "source": [
        "Булевы массивы позволяют вытаскивать элементы с True из массива того-же размера"
      ]
    },
    {
      "cell_type": "code",
      "execution_count": null,
      "metadata": {
        "id": "zlAwxAxM1wbR"
      },
      "outputs": [],
      "source": [
        "vec[vec % 2 == 0]"
      ]
    },
    {
      "cell_type": "markdown",
      "metadata": {
        "id": "Ze5dG31c1wbR"
      },
      "source": [
        "Иногда бывает полезно создавать специфичные массивы. Массив из нулей:"
      ]
    },
    {
      "cell_type": "code",
      "execution_count": null,
      "metadata": {
        "id": "9UYeGrbn1wbR"
      },
      "outputs": [],
      "source": [
        "np.zeros((2, 3))"
      ]
    },
    {
      "cell_type": "markdown",
      "metadata": {
        "id": "nt1Qf2y61wbR"
      },
      "source": [
        "Массив из единиц:"
      ]
    },
    {
      "cell_type": "code",
      "execution_count": null,
      "metadata": {
        "id": "sqaOBCZp1wbR"
      },
      "outputs": [],
      "source": [
        "np.ones((3, 2))"
      ]
    },
    {
      "cell_type": "markdown",
      "metadata": {
        "id": "p8ZxcS3e1wbR"
      },
      "source": [
        "Единичная матрица:"
      ]
    },
    {
      "cell_type": "code",
      "execution_count": 68,
      "metadata": {
        "colab": {
          "base_uri": "https://localhost:8080/"
        },
        "id": "wXHYrCF-1wbR",
        "outputId": "e8488931-707a-49f5-8f42-740f2e4d0ec9"
      },
      "outputs": [
        {
          "output_type": "execute_result",
          "data": {
            "text/plain": [
              "array([[1., 0., 0., 0., 0.],\n",
              "       [0., 1., 0., 0., 0.],\n",
              "       [0., 0., 1., 0., 0.],\n",
              "       [0., 0., 0., 1., 0.],\n",
              "       [0., 0., 0., 0., 1.]])"
            ]
          },
          "metadata": {},
          "execution_count": 68
        }
      ],
      "source": [
        "np.identity(5)"
      ]
    },
    {
      "cell_type": "markdown",
      "metadata": {
        "id": "cKVHffVB1wbR"
      },
      "source": [
        "Массивы можно объединять:"
      ]
    },
    {
      "cell_type": "code",
      "execution_count": 69,
      "metadata": {
        "colab": {
          "base_uri": "https://localhost:8080/"
        },
        "id": "ocdbfM6T1wbR",
        "outputId": "04264be9-13cf-4793-ebf3-84919dc71881"
      },
      "outputs": [
        {
          "output_type": "execute_result",
          "data": {
            "text/plain": [
              "array([[1, 2],\n",
              "       [3, 4],\n",
              "       [5, 6]])"
            ]
          },
          "metadata": {},
          "execution_count": 69
        }
      ],
      "source": [
        "vec"
      ]
    },
    {
      "cell_type": "code",
      "execution_count": 70,
      "metadata": {
        "colab": {
          "base_uri": "https://localhost:8080/"
        },
        "id": "q5oMRq5r1wbR",
        "outputId": "1be175f6-3bd3-48fa-b744-40630efe6135"
      },
      "outputs": [
        {
          "output_type": "execute_result",
          "data": {
            "text/plain": [
              "array([[1., 2., 0., 0.],\n",
              "       [3., 4., 0., 0.],\n",
              "       [5., 6., 0., 0.]])"
            ]
          },
          "metadata": {},
          "execution_count": 70
        }
      ],
      "source": [
        "np.hstack((vec, np.zeros(vec.shape)))"
      ]
    },
    {
      "cell_type": "code",
      "execution_count": null,
      "metadata": {
        "id": "AOG5O2gg1wbR"
      },
      "outputs": [],
      "source": [
        "np.vstack((vec, np.zeros(vec.shape)))"
      ]
    },
    {
      "cell_type": "markdown",
      "metadata": {
        "id": "eb88-8Qh1wbR"
      },
      "source": [
        "Генерация случайных чисел:"
      ]
    },
    {
      "cell_type": "code",
      "source": [
        "np.random.seed(623)\n",
        "np.random.rand(2, 3)"
      ],
      "metadata": {
        "id": "30iAoaum9Sh4",
        "outputId": "f6008b7b-5123-499f-b5af-8bf0f82343e2",
        "colab": {
          "base_uri": "https://localhost:8080/"
        }
      },
      "execution_count": 84,
      "outputs": [
        {
          "output_type": "execute_result",
          "data": {
            "text/plain": [
              "array([[0.70373071, 0.8009102 , 0.18159105],\n",
              "       [0.9936218 , 0.67697202, 0.75762167]])"
            ]
          },
          "metadata": {},
          "execution_count": 84
        }
      ]
    },
    {
      "cell_type": "code",
      "execution_count": null,
      "metadata": {
        "id": "AKh9Ug2J1wbS"
      },
      "outputs": [],
      "source": [
        "np.random.rand(2, 3)"
      ]
    },
    {
      "cell_type": "code",
      "execution_count": null,
      "metadata": {
        "id": "IUSbpNp81wbS"
      },
      "outputs": [],
      "source": [
        "np.random.seed(2019)\n",
        "np.random.rand(2, 3)"
      ]
    },
    {
      "cell_type": "code",
      "execution_count": null,
      "metadata": {
        "id": "-J3OPAJj1wbS"
      },
      "outputs": [],
      "source": [
        "np.random.randn(3, 2)"
      ]
    },
    {
      "cell_type": "code",
      "execution_count": null,
      "metadata": {
        "id": "5lAnt4ya1wbS"
      },
      "outputs": [],
      "source": [
        "np.random.normal(2, 1, size=3)"
      ]
    },
    {
      "cell_type": "code",
      "execution_count": 86,
      "metadata": {
        "colab": {
          "base_uri": "https://localhost:8080/"
        },
        "id": "Q0M_LeaS1wbS",
        "outputId": "16a1bc88-ca29-4c1b-84fe-ec9a70e62616"
      },
      "outputs": [
        {
          "output_type": "execute_result",
          "data": {
            "text/plain": [
              "array([9.32723928, 5.41625783, 5.2441775 ])"
            ]
          },
          "metadata": {},
          "execution_count": 86
        }
      ],
      "source": [
        "np.random.uniform(5, 10, size=3)"
      ]
    },
    {
      "cell_type": "markdown",
      "metadata": {
        "id": "JQ7lpsTj1wbS"
      },
      "source": [
        "Почему вообще используют `numpy`?"
      ]
    },
    {
      "cell_type": "code",
      "execution_count": 91,
      "metadata": {
        "colab": {
          "base_uri": "https://localhost:8080/"
        },
        "id": "b01YbyyK1wbS",
        "outputId": "2bacb033-949b-49ba-84e5-c6a484381db1"
      },
      "outputs": [
        {
          "output_type": "stream",
          "name": "stdout",
          "text": [
            "[[0.32191024 0.29570697 0.59032985 0.13882837 0.03106017]\n",
            " [0.47728784 0.01381855 0.81843669 0.76574703 0.81592872]\n",
            " [0.15656509 0.25384705 0.56272279 0.7108087  0.67811457]\n",
            " [0.99735906 0.83140903 0.54722494 0.22536127 0.33626338]\n",
            " [0.44015482 0.80799512 0.74498166 0.00474042 0.55648463]] [[0.83801111 0.66371322 0.28039527 0.05656517 0.72768947]\n",
            " [0.46719948 0.35920245 0.10489196 0.57660796 0.30388827]\n",
            " [0.33887665 0.75778126 0.13841428 0.62422804 0.95422868]\n",
            " [0.52102607 0.6336444  0.2102092  0.48300398 0.85455245]\n",
            " [0.36369087 0.48815341 0.11467766 0.8935834  0.54160192]]\n"
          ]
        }
      ],
      "source": [
        "n = 5\n",
        "A = np.random.rand(n, n)\n",
        "B = np.random.rand(n, n)\n",
        "print(A, B)"
      ]
    },
    {
      "cell_type": "code",
      "execution_count": 88,
      "metadata": {
        "colab": {
          "base_uri": "https://localhost:8080/",
          "height": 124
        },
        "id": "XKUORvmV1wbS",
        "outputId": "6f43d2a7-a4c3-4867-9f88-a714fca7037c"
      },
      "outputs": [
        {
          "output_type": "error",
          "ename": "KeyboardInterrupt",
          "evalue": "",
          "traceback": [
            "\u001b[0;31m---------------------------------------------------------------------------\u001b[0m",
            "\u001b[0;31mKeyboardInterrupt\u001b[0m                         Traceback (most recent call last)",
            "\u001b[0;32m<timed exec>\u001b[0m in \u001b[0;36m<module>\u001b[0;34m\u001b[0m\n",
            "\u001b[0;31mKeyboardInterrupt\u001b[0m: "
          ]
        }
      ],
      "source": [
        "%%time\n",
        "C = np.zeros((n, n))\n",
        "for i in range(n):\n",
        "    for j in range(n):\n",
        "        for k in range(n):\n",
        "            C[i, j] += A[i, k] * B[k, j]"
      ]
    },
    {
      "cell_type": "code",
      "execution_count": 92,
      "metadata": {
        "colab": {
          "base_uri": "https://localhost:8080/"
        },
        "id": "NkebdPGn1wbS",
        "outputId": "fc43369d-5e87-4bd9-ea0f-790a2473c2b0"
      },
      "outputs": [
        {
          "output_type": "stream",
          "name": "stdout",
          "text": [
            "CPU times: user 1.24 ms, sys: 0 ns, total: 1.24 ms\n",
            "Wall time: 14.2 ms\n"
          ]
        }
      ],
      "source": [
        "%%time\n",
        "C = A @ B"
      ]
    },
    {
      "cell_type": "markdown",
      "metadata": {
        "id": "Urtn1vIV1wbS"
      },
      "source": [
        "### Задания для самостоятельного решения"
      ]
    },
    {
      "cell_type": "markdown",
      "metadata": {
        "id": "GTUgqEaw1wbS"
      },
      "source": [
        "1. Развернуть одномерный массив (сделать так, чтобы его элементы шли в обратном порядке).\n",
        "2. Найти максимальный нечетный элемент в массиве.\n",
        "3. Замените все нечетные элементы массива на ваше любимое число.\n",
        "4. Создайте массив первых n нечетных чисел, записанных в порядке убывания. Например, если `n=5`, то ответом будет `array([9, 7, 5, 3, 1])`. *Функции, которые могут пригодиться при решении: `.arange()`*\n",
        "5. Вычислите самое близкое и самое дальнее числа к данному в рассматриваемом массиве чисел. Например, если на вход поступают массив `array([0, 1, 2, 3, 4])` и число 1.33, то ответом будет `(1, 4)`. _Функции, которые могут пригодиться при решении: `.abs()`, `.argmax()`, `.argmin()`_\n",
        "6. Вычисляющую первообразную заданного полинома (в качестве константы возьмите ваше любимое число). Например, если на вход поступает массив коэффициентов `array([4, 6, 0, 1])`, что соответствует полиному $4x^3 + 6x^2 + 1$, на выходе получается массив коэффициентов `array([1, 2, 0, 1, -2])`, соответствующий полиному $x^4 + 2x^3 + x - 2$. _Функции, которые могут пригодиться при решении: `.append()`_\n",
        "7. Пользуясь пунктом 6, посчитайте первую производную для заданного полинома в заданной точке."
      ]
    },
    {
      "cell_type": "code",
      "source": [
        "#1\n",
        "a = np.array([1,2,3,4,5])\n",
        "a = np.flip(a)\n",
        "print(a)\n"
      ],
      "metadata": {
        "id": "tpJn30Gu-G9a",
        "outputId": "6684ff40-c6bd-482a-b193-de1ea50dcc37",
        "colab": {
          "base_uri": "https://localhost:8080/"
        }
      },
      "execution_count": 98,
      "outputs": [
        {
          "output_type": "stream",
          "name": "stdout",
          "text": [
            "[5 4 3 2 1]\n"
          ]
        }
      ]
    },
    {
      "cell_type": "code",
      "source": [
        "#2\n",
        "a = np.random.randint(1, 10, size = 5)\n",
        "print(a)\n",
        "print(np.max(a[a%2==0]))\n",
        "\n"
      ],
      "metadata": {
        "id": "-j6ZFU-W-6t8",
        "outputId": "ba00a5b7-db18-4152-cb17-684444a8caed",
        "colab": {
          "base_uri": "https://localhost:8080/"
        }
      },
      "execution_count": 107,
      "outputs": [
        {
          "output_type": "stream",
          "name": "stdout",
          "text": [
            "[5 4 3 9 6]\n",
            "6\n"
          ]
        }
      ]
    },
    {
      "cell_type": "code",
      "source": [
        "#3\n",
        "a = np.random.randint(1, 10, size = 5)\n",
        "print(a)\n",
        "a[a%2!=0] = 7\n",
        "print(a)"
      ],
      "metadata": {
        "id": "VaF8MhoN_rw4",
        "outputId": "7001a3d5-f9bb-46da-de64-45edfe597085",
        "colab": {
          "base_uri": "https://localhost:8080/"
        }
      },
      "execution_count": 108,
      "outputs": [
        {
          "output_type": "stream",
          "name": "stdout",
          "text": [
            "[5 2 7 4 6]\n",
            "[7 2 7 4 6]\n"
          ]
        }
      ]
    },
    {
      "cell_type": "code",
      "execution_count": null,
      "metadata": {
        "id": "CCGAtFDt1wbT"
      },
      "outputs": [],
      "source": [
        "# ┌(▼▼メ)┘ └(メ▼▼)┐"
      ]
    }
  ],
  "metadata": {
    "kernelspec": {
      "display_name": "Python 3",
      "language": "python",
      "name": "python3"
    },
    "language_info": {
      "codemirror_mode": {
        "name": "ipython",
        "version": 3
      },
      "file_extension": ".py",
      "mimetype": "text/x-python",
      "name": "python",
      "nbconvert_exporter": "python",
      "pygments_lexer": "ipython3",
      "version": "3.8.8"
    },
    "colab": {
      "provenance": []
    }
  },
  "nbformat": 4,
  "nbformat_minor": 0
}